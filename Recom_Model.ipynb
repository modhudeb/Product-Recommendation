{
 "cells": [
  {
   "attachments": {},
   "cell_type": "markdown",
   "metadata": {},
   "source": [
    "# Import"
   ]
  },
  {
   "cell_type": "code",
   "execution_count": 4,
   "metadata": {},
   "outputs": [],
   "source": [
    "import numpy as np\n",
    "import pandas as pd\n",
    "import matplotlib.pyplot as plt\n",
    "import seaborn as sns"
   ]
  },
  {
   "cell_type": "code",
   "execution_count": 5,
   "metadata": {},
   "outputs": [],
   "source": [
    "from sklearn.metrics.pairwise import cosine_similarity"
   ]
  },
  {
   "cell_type": "code",
   "execution_count": null,
   "metadata": {},
   "outputs": [],
   "source": []
  },
  {
   "attachments": {},
   "cell_type": "markdown",
   "metadata": {},
   "source": [
    "# Loading"
   ]
  },
  {
   "cell_type": "code",
   "execution_count": 6,
   "metadata": {},
   "outputs": [],
   "source": [
    "data = pd.read_csv('User_Product_df.csv', index_col='CustomerID')"
   ]
  },
  {
   "cell_type": "code",
   "execution_count": 7,
   "metadata": {},
   "outputs": [
    {
     "data": {
      "text/html": [
       "<div>\n",
       "<style scoped>\n",
       "    .dataframe tbody tr th:only-of-type {\n",
       "        vertical-align: middle;\n",
       "    }\n",
       "\n",
       "    .dataframe tbody tr th {\n",
       "        vertical-align: top;\n",
       "    }\n",
       "\n",
       "    .dataframe thead th {\n",
       "        text-align: right;\n",
       "    }\n",
       "</style>\n",
       "<table border=\"1\" class=\"dataframe\">\n",
       "  <thead>\n",
       "    <tr style=\"text-align: right;\">\n",
       "      <th></th>\n",
       "      <th>00DM28LT</th>\n",
       "      <th>013E5SFQ</th>\n",
       "      <th>01APE0T4</th>\n",
       "      <th>01G6QD1T</th>\n",
       "      <th>01NB3B3M</th>\n",
       "      <th>01TR4FQF</th>\n",
       "      <th>01XJF3DT</th>\n",
       "      <th>023FOB8V</th>\n",
       "      <th>03VBIVAR</th>\n",
       "      <th>04DEZ789</th>\n",
       "      <th>...</th>\n",
       "      <th>ZY9C2UXD</th>\n",
       "      <th>ZYGY58IP</th>\n",
       "      <th>ZYHE5SNM</th>\n",
       "      <th>ZYJJBM9A</th>\n",
       "      <th>ZYXG1HRO</th>\n",
       "      <th>ZZ28J9SM</th>\n",
       "      <th>ZZ5FG3VP</th>\n",
       "      <th>ZZANPY4R</th>\n",
       "      <th>ZZF9OLGI</th>\n",
       "      <th>ZZWWYVS6</th>\n",
       "    </tr>\n",
       "    <tr>\n",
       "      <th>CustomerID</th>\n",
       "      <th></th>\n",
       "      <th></th>\n",
       "      <th></th>\n",
       "      <th></th>\n",
       "      <th></th>\n",
       "      <th></th>\n",
       "      <th></th>\n",
       "      <th></th>\n",
       "      <th></th>\n",
       "      <th></th>\n",
       "      <th></th>\n",
       "      <th></th>\n",
       "      <th></th>\n",
       "      <th></th>\n",
       "      <th></th>\n",
       "      <th></th>\n",
       "      <th></th>\n",
       "      <th></th>\n",
       "      <th></th>\n",
       "      <th></th>\n",
       "      <th></th>\n",
       "    </tr>\n",
       "  </thead>\n",
       "  <tbody>\n",
       "    <tr>\n",
       "      <th>12339</th>\n",
       "      <td>0</td>\n",
       "      <td>0</td>\n",
       "      <td>0</td>\n",
       "      <td>0</td>\n",
       "      <td>0</td>\n",
       "      <td>0</td>\n",
       "      <td>0</td>\n",
       "      <td>0</td>\n",
       "      <td>0</td>\n",
       "      <td>0</td>\n",
       "      <td>...</td>\n",
       "      <td>0</td>\n",
       "      <td>0</td>\n",
       "      <td>0</td>\n",
       "      <td>0</td>\n",
       "      <td>0</td>\n",
       "      <td>0</td>\n",
       "      <td>0</td>\n",
       "      <td>0</td>\n",
       "      <td>0</td>\n",
       "      <td>0</td>\n",
       "    </tr>\n",
       "    <tr>\n",
       "      <th>12340</th>\n",
       "      <td>0</td>\n",
       "      <td>0</td>\n",
       "      <td>0</td>\n",
       "      <td>0</td>\n",
       "      <td>0</td>\n",
       "      <td>0</td>\n",
       "      <td>0</td>\n",
       "      <td>0</td>\n",
       "      <td>0</td>\n",
       "      <td>0</td>\n",
       "      <td>...</td>\n",
       "      <td>0</td>\n",
       "      <td>0</td>\n",
       "      <td>0</td>\n",
       "      <td>0</td>\n",
       "      <td>0</td>\n",
       "      <td>0</td>\n",
       "      <td>0</td>\n",
       "      <td>0</td>\n",
       "      <td>0</td>\n",
       "      <td>0</td>\n",
       "    </tr>\n",
       "    <tr>\n",
       "      <th>12346</th>\n",
       "      <td>0</td>\n",
       "      <td>0</td>\n",
       "      <td>0</td>\n",
       "      <td>0</td>\n",
       "      <td>0</td>\n",
       "      <td>0</td>\n",
       "      <td>0</td>\n",
       "      <td>0</td>\n",
       "      <td>0</td>\n",
       "      <td>0</td>\n",
       "      <td>...</td>\n",
       "      <td>0</td>\n",
       "      <td>0</td>\n",
       "      <td>0</td>\n",
       "      <td>0</td>\n",
       "      <td>0</td>\n",
       "      <td>0</td>\n",
       "      <td>0</td>\n",
       "      <td>0</td>\n",
       "      <td>0</td>\n",
       "      <td>0</td>\n",
       "    </tr>\n",
       "    <tr>\n",
       "      <th>12347</th>\n",
       "      <td>0</td>\n",
       "      <td>0</td>\n",
       "      <td>0</td>\n",
       "      <td>0</td>\n",
       "      <td>0</td>\n",
       "      <td>0</td>\n",
       "      <td>0</td>\n",
       "      <td>0</td>\n",
       "      <td>0</td>\n",
       "      <td>0</td>\n",
       "      <td>...</td>\n",
       "      <td>0</td>\n",
       "      <td>0</td>\n",
       "      <td>0</td>\n",
       "      <td>0</td>\n",
       "      <td>0</td>\n",
       "      <td>0</td>\n",
       "      <td>0</td>\n",
       "      <td>0</td>\n",
       "      <td>0</td>\n",
       "      <td>0</td>\n",
       "    </tr>\n",
       "    <tr>\n",
       "      <th>12348</th>\n",
       "      <td>0</td>\n",
       "      <td>0</td>\n",
       "      <td>0</td>\n",
       "      <td>0</td>\n",
       "      <td>0</td>\n",
       "      <td>0</td>\n",
       "      <td>0</td>\n",
       "      <td>0</td>\n",
       "      <td>0</td>\n",
       "      <td>0</td>\n",
       "      <td>...</td>\n",
       "      <td>0</td>\n",
       "      <td>0</td>\n",
       "      <td>0</td>\n",
       "      <td>0</td>\n",
       "      <td>0</td>\n",
       "      <td>0</td>\n",
       "      <td>0</td>\n",
       "      <td>0</td>\n",
       "      <td>0</td>\n",
       "      <td>0</td>\n",
       "    </tr>\n",
       "  </tbody>\n",
       "</table>\n",
       "<p>5 rows × 4223 columns</p>\n",
       "</div>"
      ],
      "text/plain": [
       "            00DM28LT  013E5SFQ  01APE0T4  01G6QD1T  01NB3B3M  01TR4FQF  \\\n",
       "CustomerID                                                               \n",
       "12339              0         0         0         0         0         0   \n",
       "12340              0         0         0         0         0         0   \n",
       "12346              0         0         0         0         0         0   \n",
       "12347              0         0         0         0         0         0   \n",
       "12348              0         0         0         0         0         0   \n",
       "\n",
       "            01XJF3DT  023FOB8V  03VBIVAR  04DEZ789  ...  ZY9C2UXD  ZYGY58IP  \\\n",
       "CustomerID                                          ...                       \n",
       "12339              0         0         0         0  ...         0         0   \n",
       "12340              0         0         0         0  ...         0         0   \n",
       "12346              0         0         0         0  ...         0         0   \n",
       "12347              0         0         0         0  ...         0         0   \n",
       "12348              0         0         0         0  ...         0         0   \n",
       "\n",
       "            ZYHE5SNM  ZYJJBM9A  ZYXG1HRO  ZZ28J9SM  ZZ5FG3VP  ZZANPY4R  \\\n",
       "CustomerID                                                               \n",
       "12339              0         0         0         0         0         0   \n",
       "12340              0         0         0         0         0         0   \n",
       "12346              0         0         0         0         0         0   \n",
       "12347              0         0         0         0         0         0   \n",
       "12348              0         0         0         0         0         0   \n",
       "\n",
       "            ZZF9OLGI  ZZWWYVS6  \n",
       "CustomerID                      \n",
       "12339              0         0  \n",
       "12340              0         0  \n",
       "12346              0         0  \n",
       "12347              0         0  \n",
       "12348              0         0  \n",
       "\n",
       "[5 rows x 4223 columns]"
      ]
     },
     "execution_count": 7,
     "metadata": {},
     "output_type": "execute_result"
    }
   ],
   "source": [
    "data.head()"
   ]
  },
  {
   "cell_type": "code",
   "execution_count": 8,
   "metadata": {},
   "outputs": [],
   "source": [
    "df = data.copy()"
   ]
  },
  {
   "cell_type": "code",
   "execution_count": 9,
   "metadata": {},
   "outputs": [],
   "source": [
    "fullData = pd.read_csv('Product_Dataset.csv')"
   ]
  },
  {
   "cell_type": "code",
   "execution_count": 10,
   "metadata": {},
   "outputs": [],
   "source": [
    "fdf = fullData.copy()"
   ]
  },
  {
   "attachments": {},
   "cell_type": "markdown",
   "metadata": {},
   "source": [
    "# Codes : Collaborative Filtering"
   ]
  },
  {
   "cell_type": "code",
   "execution_count": 11,
   "metadata": {},
   "outputs": [],
   "source": [
    "similarities = cosine_similarity(df)"
   ]
  },
  {
   "cell_type": "code",
   "execution_count": 12,
   "metadata": {},
   "outputs": [
    {
     "data": {
      "text/html": [
       "<div>\n",
       "<style scoped>\n",
       "    .dataframe tbody tr th:only-of-type {\n",
       "        vertical-align: middle;\n",
       "    }\n",
       "\n",
       "    .dataframe tbody tr th {\n",
       "        vertical-align: top;\n",
       "    }\n",
       "\n",
       "    .dataframe thead th {\n",
       "        text-align: right;\n",
       "    }\n",
       "</style>\n",
       "<table border=\"1\" class=\"dataframe\">\n",
       "  <thead>\n",
       "    <tr style=\"text-align: right;\">\n",
       "      <th></th>\n",
       "      <th>00DM28LT</th>\n",
       "      <th>013E5SFQ</th>\n",
       "      <th>01APE0T4</th>\n",
       "      <th>01G6QD1T</th>\n",
       "      <th>01NB3B3M</th>\n",
       "      <th>01TR4FQF</th>\n",
       "      <th>01XJF3DT</th>\n",
       "      <th>023FOB8V</th>\n",
       "      <th>03VBIVAR</th>\n",
       "      <th>04DEZ789</th>\n",
       "      <th>...</th>\n",
       "      <th>ZY9C2UXD</th>\n",
       "      <th>ZYGY58IP</th>\n",
       "      <th>ZYHE5SNM</th>\n",
       "      <th>ZYJJBM9A</th>\n",
       "      <th>ZYXG1HRO</th>\n",
       "      <th>ZZ28J9SM</th>\n",
       "      <th>ZZ5FG3VP</th>\n",
       "      <th>ZZANPY4R</th>\n",
       "      <th>ZZF9OLGI</th>\n",
       "      <th>ZZWWYVS6</th>\n",
       "    </tr>\n",
       "    <tr>\n",
       "      <th>CustomerID</th>\n",
       "      <th></th>\n",
       "      <th></th>\n",
       "      <th></th>\n",
       "      <th></th>\n",
       "      <th></th>\n",
       "      <th></th>\n",
       "      <th></th>\n",
       "      <th></th>\n",
       "      <th></th>\n",
       "      <th></th>\n",
       "      <th></th>\n",
       "      <th></th>\n",
       "      <th></th>\n",
       "      <th></th>\n",
       "      <th></th>\n",
       "      <th></th>\n",
       "      <th></th>\n",
       "      <th></th>\n",
       "      <th></th>\n",
       "      <th></th>\n",
       "      <th></th>\n",
       "    </tr>\n",
       "  </thead>\n",
       "  <tbody>\n",
       "    <tr>\n",
       "      <th>12339</th>\n",
       "      <td>0</td>\n",
       "      <td>0</td>\n",
       "      <td>0</td>\n",
       "      <td>0</td>\n",
       "      <td>0</td>\n",
       "      <td>0</td>\n",
       "      <td>0</td>\n",
       "      <td>0</td>\n",
       "      <td>0</td>\n",
       "      <td>0</td>\n",
       "      <td>...</td>\n",
       "      <td>0</td>\n",
       "      <td>0</td>\n",
       "      <td>0</td>\n",
       "      <td>0</td>\n",
       "      <td>0</td>\n",
       "      <td>0</td>\n",
       "      <td>0</td>\n",
       "      <td>0</td>\n",
       "      <td>0</td>\n",
       "      <td>0</td>\n",
       "    </tr>\n",
       "    <tr>\n",
       "      <th>12340</th>\n",
       "      <td>0</td>\n",
       "      <td>0</td>\n",
       "      <td>0</td>\n",
       "      <td>0</td>\n",
       "      <td>0</td>\n",
       "      <td>0</td>\n",
       "      <td>0</td>\n",
       "      <td>0</td>\n",
       "      <td>0</td>\n",
       "      <td>0</td>\n",
       "      <td>...</td>\n",
       "      <td>0</td>\n",
       "      <td>0</td>\n",
       "      <td>0</td>\n",
       "      <td>0</td>\n",
       "      <td>0</td>\n",
       "      <td>0</td>\n",
       "      <td>0</td>\n",
       "      <td>0</td>\n",
       "      <td>0</td>\n",
       "      <td>0</td>\n",
       "    </tr>\n",
       "    <tr>\n",
       "      <th>12346</th>\n",
       "      <td>0</td>\n",
       "      <td>0</td>\n",
       "      <td>0</td>\n",
       "      <td>0</td>\n",
       "      <td>0</td>\n",
       "      <td>0</td>\n",
       "      <td>0</td>\n",
       "      <td>0</td>\n",
       "      <td>0</td>\n",
       "      <td>0</td>\n",
       "      <td>...</td>\n",
       "      <td>0</td>\n",
       "      <td>0</td>\n",
       "      <td>0</td>\n",
       "      <td>0</td>\n",
       "      <td>0</td>\n",
       "      <td>0</td>\n",
       "      <td>0</td>\n",
       "      <td>0</td>\n",
       "      <td>0</td>\n",
       "      <td>0</td>\n",
       "    </tr>\n",
       "    <tr>\n",
       "      <th>12347</th>\n",
       "      <td>0</td>\n",
       "      <td>0</td>\n",
       "      <td>0</td>\n",
       "      <td>0</td>\n",
       "      <td>0</td>\n",
       "      <td>0</td>\n",
       "      <td>0</td>\n",
       "      <td>0</td>\n",
       "      <td>0</td>\n",
       "      <td>0</td>\n",
       "      <td>...</td>\n",
       "      <td>0</td>\n",
       "      <td>0</td>\n",
       "      <td>0</td>\n",
       "      <td>0</td>\n",
       "      <td>0</td>\n",
       "      <td>0</td>\n",
       "      <td>0</td>\n",
       "      <td>0</td>\n",
       "      <td>0</td>\n",
       "      <td>0</td>\n",
       "    </tr>\n",
       "    <tr>\n",
       "      <th>12348</th>\n",
       "      <td>0</td>\n",
       "      <td>0</td>\n",
       "      <td>0</td>\n",
       "      <td>0</td>\n",
       "      <td>0</td>\n",
       "      <td>0</td>\n",
       "      <td>0</td>\n",
       "      <td>0</td>\n",
       "      <td>0</td>\n",
       "      <td>0</td>\n",
       "      <td>...</td>\n",
       "      <td>0</td>\n",
       "      <td>0</td>\n",
       "      <td>0</td>\n",
       "      <td>0</td>\n",
       "      <td>0</td>\n",
       "      <td>0</td>\n",
       "      <td>0</td>\n",
       "      <td>0</td>\n",
       "      <td>0</td>\n",
       "      <td>0</td>\n",
       "    </tr>\n",
       "    <tr>\n",
       "      <th>...</th>\n",
       "      <td>...</td>\n",
       "      <td>...</td>\n",
       "      <td>...</td>\n",
       "      <td>...</td>\n",
       "      <td>...</td>\n",
       "      <td>...</td>\n",
       "      <td>...</td>\n",
       "      <td>...</td>\n",
       "      <td>...</td>\n",
       "      <td>...</td>\n",
       "      <td>...</td>\n",
       "      <td>...</td>\n",
       "      <td>...</td>\n",
       "      <td>...</td>\n",
       "      <td>...</td>\n",
       "      <td>...</td>\n",
       "      <td>...</td>\n",
       "      <td>...</td>\n",
       "      <td>...</td>\n",
       "      <td>...</td>\n",
       "      <td>...</td>\n",
       "    </tr>\n",
       "    <tr>\n",
       "      <th>99766</th>\n",
       "      <td>0</td>\n",
       "      <td>0</td>\n",
       "      <td>0</td>\n",
       "      <td>0</td>\n",
       "      <td>0</td>\n",
       "      <td>0</td>\n",
       "      <td>0</td>\n",
       "      <td>0</td>\n",
       "      <td>0</td>\n",
       "      <td>0</td>\n",
       "      <td>...</td>\n",
       "      <td>0</td>\n",
       "      <td>0</td>\n",
       "      <td>0</td>\n",
       "      <td>0</td>\n",
       "      <td>0</td>\n",
       "      <td>0</td>\n",
       "      <td>0</td>\n",
       "      <td>0</td>\n",
       "      <td>0</td>\n",
       "      <td>0</td>\n",
       "    </tr>\n",
       "    <tr>\n",
       "      <th>99791</th>\n",
       "      <td>0</td>\n",
       "      <td>0</td>\n",
       "      <td>0</td>\n",
       "      <td>0</td>\n",
       "      <td>0</td>\n",
       "      <td>0</td>\n",
       "      <td>0</td>\n",
       "      <td>0</td>\n",
       "      <td>0</td>\n",
       "      <td>0</td>\n",
       "      <td>...</td>\n",
       "      <td>0</td>\n",
       "      <td>0</td>\n",
       "      <td>0</td>\n",
       "      <td>0</td>\n",
       "      <td>0</td>\n",
       "      <td>0</td>\n",
       "      <td>0</td>\n",
       "      <td>0</td>\n",
       "      <td>0</td>\n",
       "      <td>0</td>\n",
       "    </tr>\n",
       "    <tr>\n",
       "      <th>99859</th>\n",
       "      <td>0</td>\n",
       "      <td>0</td>\n",
       "      <td>0</td>\n",
       "      <td>0</td>\n",
       "      <td>0</td>\n",
       "      <td>0</td>\n",
       "      <td>0</td>\n",
       "      <td>0</td>\n",
       "      <td>0</td>\n",
       "      <td>0</td>\n",
       "      <td>...</td>\n",
       "      <td>0</td>\n",
       "      <td>0</td>\n",
       "      <td>0</td>\n",
       "      <td>0</td>\n",
       "      <td>0</td>\n",
       "      <td>0</td>\n",
       "      <td>0</td>\n",
       "      <td>0</td>\n",
       "      <td>0</td>\n",
       "      <td>0</td>\n",
       "    </tr>\n",
       "    <tr>\n",
       "      <th>99882</th>\n",
       "      <td>0</td>\n",
       "      <td>0</td>\n",
       "      <td>1</td>\n",
       "      <td>0</td>\n",
       "      <td>0</td>\n",
       "      <td>0</td>\n",
       "      <td>1</td>\n",
       "      <td>0</td>\n",
       "      <td>0</td>\n",
       "      <td>0</td>\n",
       "      <td>...</td>\n",
       "      <td>0</td>\n",
       "      <td>0</td>\n",
       "      <td>0</td>\n",
       "      <td>0</td>\n",
       "      <td>0</td>\n",
       "      <td>0</td>\n",
       "      <td>0</td>\n",
       "      <td>0</td>\n",
       "      <td>0</td>\n",
       "      <td>0</td>\n",
       "    </tr>\n",
       "    <tr>\n",
       "      <th>99886</th>\n",
       "      <td>0</td>\n",
       "      <td>0</td>\n",
       "      <td>0</td>\n",
       "      <td>0</td>\n",
       "      <td>0</td>\n",
       "      <td>0</td>\n",
       "      <td>0</td>\n",
       "      <td>0</td>\n",
       "      <td>0</td>\n",
       "      <td>0</td>\n",
       "      <td>...</td>\n",
       "      <td>0</td>\n",
       "      <td>0</td>\n",
       "      <td>0</td>\n",
       "      <td>0</td>\n",
       "      <td>0</td>\n",
       "      <td>0</td>\n",
       "      <td>0</td>\n",
       "      <td>0</td>\n",
       "      <td>0</td>\n",
       "      <td>0</td>\n",
       "    </tr>\n",
       "  </tbody>\n",
       "</table>\n",
       "<p>6627 rows × 4223 columns</p>\n",
       "</div>"
      ],
      "text/plain": [
       "            00DM28LT  013E5SFQ  01APE0T4  01G6QD1T  01NB3B3M  01TR4FQF  \\\n",
       "CustomerID                                                               \n",
       "12339              0         0         0         0         0         0   \n",
       "12340              0         0         0         0         0         0   \n",
       "12346              0         0         0         0         0         0   \n",
       "12347              0         0         0         0         0         0   \n",
       "12348              0         0         0         0         0         0   \n",
       "...              ...       ...       ...       ...       ...       ...   \n",
       "99766              0         0         0         0         0         0   \n",
       "99791              0         0         0         0         0         0   \n",
       "99859              0         0         0         0         0         0   \n",
       "99882              0         0         1         0         0         0   \n",
       "99886              0         0         0         0         0         0   \n",
       "\n",
       "            01XJF3DT  023FOB8V  03VBIVAR  04DEZ789  ...  ZY9C2UXD  ZYGY58IP  \\\n",
       "CustomerID                                          ...                       \n",
       "12339              0         0         0         0  ...         0         0   \n",
       "12340              0         0         0         0  ...         0         0   \n",
       "12346              0         0         0         0  ...         0         0   \n",
       "12347              0         0         0         0  ...         0         0   \n",
       "12348              0         0         0         0  ...         0         0   \n",
       "...              ...       ...       ...       ...  ...       ...       ...   \n",
       "99766              0         0         0         0  ...         0         0   \n",
       "99791              0         0         0         0  ...         0         0   \n",
       "99859              0         0         0         0  ...         0         0   \n",
       "99882              1         0         0         0  ...         0         0   \n",
       "99886              0         0         0         0  ...         0         0   \n",
       "\n",
       "            ZYHE5SNM  ZYJJBM9A  ZYXG1HRO  ZZ28J9SM  ZZ5FG3VP  ZZANPY4R  \\\n",
       "CustomerID                                                               \n",
       "12339              0         0         0         0         0         0   \n",
       "12340              0         0         0         0         0         0   \n",
       "12346              0         0         0         0         0         0   \n",
       "12347              0         0         0         0         0         0   \n",
       "12348              0         0         0         0         0         0   \n",
       "...              ...       ...       ...       ...       ...       ...   \n",
       "99766              0         0         0         0         0         0   \n",
       "99791              0         0         0         0         0         0   \n",
       "99859              0         0         0         0         0         0   \n",
       "99882              0         0         0         0         0         0   \n",
       "99886              0         0         0         0         0         0   \n",
       "\n",
       "            ZZF9OLGI  ZZWWYVS6  \n",
       "CustomerID                      \n",
       "12339              0         0  \n",
       "12340              0         0  \n",
       "12346              0         0  \n",
       "12347              0         0  \n",
       "12348              0         0  \n",
       "...              ...       ...  \n",
       "99766              0         0  \n",
       "99791              0         0  \n",
       "99859              0         0  \n",
       "99882              0         0  \n",
       "99886              0         0  \n",
       "\n",
       "[6627 rows x 4223 columns]"
      ]
     },
     "execution_count": 12,
     "metadata": {},
     "output_type": "execute_result"
    }
   ],
   "source": [
    "df"
   ]
  },
  {
   "cell_type": "code",
   "execution_count": 13,
   "metadata": {},
   "outputs": [
    {
     "data": {
      "text/plain": [
       "array([[1.        , 0.        , 0.        , ..., 0.        , 0.        ,\n",
       "        0.        ],\n",
       "       [0.        , 1.        , 0.        , ..., 0.16035675, 0.01403034,\n",
       "        0.        ],\n",
       "       [0.        , 0.        , 1.        , ..., 0.        , 0.        ,\n",
       "        0.        ],\n",
       "       ...,\n",
       "       [0.        , 0.16035675, 0.        , ..., 1.        , 0.10499344,\n",
       "        0.        ],\n",
       "       [0.        , 0.01403034, 0.        , ..., 0.10499344, 1.        ,\n",
       "        0.        ],\n",
       "       [0.        , 0.        , 0.        , ..., 0.        , 0.        ,\n",
       "        1.        ]])"
      ]
     },
     "execution_count": 13,
     "metadata": {},
     "output_type": "execute_result"
    }
   ],
   "source": [
    "similarities"
   ]
  },
  {
   "cell_type": "code",
   "execution_count": 14,
   "metadata": {},
   "outputs": [],
   "source": [
    "ndf = pd.DataFrame(data=similarities, index=df.index.values, columns= df.index.values)"
   ]
  },
  {
   "cell_type": "code",
   "execution_count": 15,
   "metadata": {},
   "outputs": [
    {
     "data": {
      "text/plain": [
       "14000    1.00000\n",
       "17414    0.46188\n",
       "16377    0.46188\n",
       "Name: 14000, dtype: float64"
      ]
     },
     "execution_count": 15,
     "metadata": {},
     "output_type": "execute_result"
    }
   ],
   "source": [
    "xx = ndf[14000].sort_values(ascending = False).head(3)\n",
    "xx"
   ]
  },
  {
   "cell_type": "code",
   "execution_count": 16,
   "metadata": {},
   "outputs": [
    {
     "data": {
      "text/plain": [
       "array([1.        , 0.46188022, 0.46188022])"
      ]
     },
     "execution_count": 16,
     "metadata": {},
     "output_type": "execute_result"
    }
   ],
   "source": [
    "xx.values"
   ]
  },
  {
   "cell_type": "code",
   "execution_count": null,
   "metadata": {},
   "outputs": [],
   "source": []
  },
  {
   "cell_type": "code",
   "execution_count": null,
   "metadata": {},
   "outputs": [],
   "source": []
  },
  {
   "cell_type": "code",
   "execution_count": 17,
   "metadata": {},
   "outputs": [],
   "source": [
    "# Function to get bought productCode by given customerID\n",
    "\n",
    "def boughtProductCode(cID:int)->list:\n",
    "    bought = []\n",
    "    tmp = list(df.loc[cID].items())\n",
    "    for x in tmp:\n",
    "        if x[1] == 1:\n",
    "            bought.append(x[0])\n",
    "    \n",
    "    return bought"
   ]
  },
  {
   "cell_type": "code",
   "execution_count": 18,
   "metadata": {},
   "outputs": [],
   "source": [
    "tmp = list(df.loc[12340].items())"
   ]
  },
  {
   "cell_type": "code",
   "execution_count": 19,
   "metadata": {},
   "outputs": [
    {
     "data": {
      "text/plain": [
       "[('00DM28LT', 0),\n",
       " ('013E5SFQ', 0),\n",
       " ('01APE0T4', 0),\n",
       " ('01G6QD1T', 0),\n",
       " ('01NB3B3M', 0)]"
      ]
     },
     "execution_count": 19,
     "metadata": {},
     "output_type": "execute_result"
    }
   ],
   "source": [
    "tmp[0:5]"
   ]
  },
  {
   "cell_type": "code",
   "execution_count": 20,
   "metadata": {},
   "outputs": [
    {
     "data": {
      "text/plain": [
       "{'8', '98'}"
      ]
     },
     "execution_count": 20,
     "metadata": {},
     "output_type": "execute_result"
    }
   ],
   "source": [
    "op =['98','98','8']\n",
    "op = set(op)\n",
    "op"
   ]
  },
  {
   "cell_type": "code",
   "execution_count": 21,
   "metadata": {},
   "outputs": [],
   "source": [
    "def getProductName(prodCode:str):\n",
    "    return fdf[fdf['ProdCode'] == prodCode]['Description'].values[0]"
   ]
  },
  {
   "cell_type": "code",
   "execution_count": 56,
   "metadata": {},
   "outputs": [],
   "source": [
    "def getRecommendations(userId:int):\n",
    "    xx = ndf[userId].sort_values(ascending = False).head(5)\n",
    "    similar_users = xx.index[1:].values\n",
    "    sim_user_ratings = xx.values[1:]\n",
    "\n",
    "    prodCodes = []\n",
    "    for user in similar_users:\n",
    "        for x in boughtProductCode(user):\n",
    "            prodCodes.append(x)\n",
    "\n",
    "    prodCodes = set(prodCodes) - set(boughtProductCode(userId)) # refined already purchased product from recommended products\n",
    "    \n",
    "    prodNames = []\n",
    "    for code in prodCodes:\n",
    "        prodNames.append(getProductName(code))\n",
    "\n",
    "\n",
    "    return prodNames, [similar_users, sim_user_ratings]\n"
   ]
  },
  {
   "cell_type": "code",
   "execution_count": 57,
   "metadata": {},
   "outputs": [
    {
     "data": {
      "text/plain": [
       "['FAN BLACK FRAME ', 'MEDIUM CHINESE STYLE SCISSOR']"
      ]
     },
     "execution_count": 57,
     "metadata": {},
     "output_type": "execute_result"
    }
   ],
   "source": [
    "x,y = getRecommendations(14000)\n",
    "x"
   ]
  },
  {
   "cell_type": "code",
   "execution_count": 58,
   "metadata": {},
   "outputs": [
    {
     "data": {
      "text/plain": [
       "[array([17414, 16377, 13848, 12864], dtype=int64),\n",
       " array([0.46188022, 0.46188022, 0.2981424 , 0.2981424 ])]"
      ]
     },
     "execution_count": 58,
     "metadata": {},
     "output_type": "execute_result"
    }
   ],
   "source": [
    "y"
   ]
  },
  {
   "attachments": {},
   "cell_type": "markdown",
   "metadata": {},
   "source": [
    "## Non-Importan. No need to implement"
   ]
  },
  {
   "cell_type": "code",
   "execution_count": 47,
   "metadata": {},
   "outputs": [
    {
     "name": "stdout",
     "output_type": "stream",
     "text": [
      "FIRE POLISHED GLASS BRACELET MONTAN\n",
      "PINK PAPER PARASOL \n",
      "ASSORTED COLOUR T-LIGHT HOLDER\n",
      "MULTI COLOUR SILVER T-LIGHT HOLDER\n",
      "RED PAPER PARASOL\n",
      "MOROCCAN TEA GLASS\n",
      "SMALL CHINESE STYLE SCISSOR\n",
      "FIRE POLISHED GLASS BRACELET GREEN\n",
      "BLUE PAISLEY SKETCHBOOK\n",
      "BROCADE RING PURSE \n",
      "FIRE POLISHED GLASS BRACELET RED\n",
      "SANDALWOOD FAN\n",
      "BLUE PAPER PARASOL \n",
      "ASSORTED COLOURS SILK FAN\n",
      "LARGE CHINESE STYLE SCISSOR\n"
     ]
    }
   ],
   "source": [
    "for x in boughtProductCode(14000):\n",
    "    print(getProductName(x))"
   ]
  },
  {
   "cell_type": "code",
   "execution_count": 59,
   "metadata": {},
   "outputs": [
    {
     "name": "stdout",
     "output_type": "stream",
     "text": [
      "FAN BLACK FRAME \n",
      "SANDALWOOD FAN\n",
      "ASSORTED COLOURS SILK FAN\n"
     ]
    }
   ],
   "source": [
    "for x in boughtProductCode(12864):\n",
    "    print(getProductName(x))"
   ]
  }
 ],
 "metadata": {
  "kernelspec": {
   "display_name": "Python 3",
   "language": "python",
   "name": "python3"
  },
  "language_info": {
   "codemirror_mode": {
    "name": "ipython",
    "version": 3
   },
   "file_extension": ".py",
   "mimetype": "text/x-python",
   "name": "python",
   "nbconvert_exporter": "python",
   "pygments_lexer": "ipython3",
   "version": "3.10.5"
  },
  "orig_nbformat": 4,
  "vscode": {
   "interpreter": {
    "hash": "26de051ba29f2982a8de78e945f0abaf191376122a1563185a90213a26c5da77"
   }
  }
 },
 "nbformat": 4,
 "nbformat_minor": 2
}
